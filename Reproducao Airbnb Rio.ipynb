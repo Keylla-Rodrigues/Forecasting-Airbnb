{
 "cells": [
  {
   "cell_type": "markdown",
   "metadata": {},
   "source": [
    "# Projeto Airbnb Rio - Ferramenta de Previsão de Preço de Imóvel para pessoas comuns\n",
    "\n",
    "###Praticando o exercicio feito pela Hashtag"
   ]
  },
  {
   "cell_type": "markdown",
   "metadata": {},
   "source": [
    "### Contexto\n",
    "\n",
    "No Airbnb, qualquer pessoa que tenha um quarto ou um imóvel de qualquer tipo (apartamento, casa, chalé, pousada, etc.) pode ofertar o seu imóvel para ser alugado por diária.\n",
    "\n",
    "Você cria o seu perfil de host (pessoa que disponibiliza um imóvel para aluguel por diária) e cria o anúncio do seu imóvel.\n",
    "\n",
    "Nesse anúncio, o host deve descrever as características do imóvel da forma mais completa possível, de forma a ajudar os locadores/viajantes a escolherem o melhor imóvel para eles (e de forma a tornar o seu anúncio mais atrativo)\n",
    "\n",
    "Existem dezenas de personalizações possíveis no seu anúncio, desde quantidade mínima de diária, preço, quantidade de quartos, até regras de cancelamento, taxa extra para hóspedes extras, exigência de verificação de identidade do locador, etc.\n",
    "\n",
    "### Nosso objetivo\n",
    "\n",
    "Construir um modelo de previsão de preço que permita uma pessoa comum que possui um imóvel possa saber quanto deve cobrar pela diária do seu imóvel.\n",
    "\n",
    "Ou ainda, para o locador comum, dado o imóvel que ele está buscando, ajudar a saber se aquele imóvel está com preço atrativo (abaixo da média para imóveis com as mesmas características) ou não.\n",
    "\n",
    "### O que temos disponível, inspirações e créditos\n",
    "\n",
    "As bases de dados foram retiradas do site kaggle: https://www.kaggle.com/allanbruno/airbnb-rio-de-janeiro\n",
    "\n",
    "Elas estão disponíveis para download abaixo da aula (se você puxar os dados direto do Kaggle pode ser que encontre resultados diferentes dos meus, afinal as bases de dados podem ter sido atualizadas).\n",
    "\n",
    "Caso queira uma outra solução, podemos olhar como referência a solução do usuário Allan Bruno do kaggle no Notebook: https://www.kaggle.com/allanbruno/helping-regular-people-price-listings-on-airbnb\n",
    "\n",
    "Você vai perceber semelhanças entre a solução que vamos desenvolver aqui e a dele, mas também algumas diferenças significativas no processo de construção do projeto.\n",
    "\n",
    "- As bases de dados são os preços dos imóveis obtidos e suas respectivas características em cada mês.\n",
    "- Os preços são dados em reais (R$)\n",
    "- Temos bases de abril de 2018 a maio de 2020, com exceção de junho de 2018 que não possui base de dados\n",
    "\n",
    "### Expectativas Iniciais\n",
    "\n",
    "- Acredito que a sazonalidade pode ser um fator importante, visto que meses como dezembro costumam ser bem caros no RJ\n",
    "- A localização do imóvel deve fazer muita diferença no preço, já que no Rio de Janeiro a localização pode mudar completamente as características do lugar (segurança, beleza natural, pontos turísticos)\n",
    "- Adicionais/Comodidades podem ter um impacto significativo, visto que temos muitos prédios e casas antigos no Rio de Janeiro\n",
    "\n",
    "Vamos descobrir o quanto esses fatores impactam e se temos outros fatores não tão intuitivos que são extremamente importantes."
   ]
  },
  {
   "cell_type": "markdown",
   "metadata": {},
   "source": [
    "### Importar Bibliotecas e Bases de Dados"
   ]
  },
  {
   "cell_type": "code",
   "execution_count": 1,
   "metadata": {},
   "outputs": [],
   "source": [
    "import pandas as pd\n",
    "import pathlib    # permite identificar uma pasta e percorrer todas as pastas\n"
   ]
  },
  {
   "cell_type": "code",
   "execution_count": 2,
   "metadata": {},
   "outputs": [],
   "source": [
    "# #entro na pasta a partir desse caminho\n",
    "# caminho_bases = pathlib.Path(\"dataset\")  #dataset eh o nome da pasta/arquivo\n",
    "\n",
    "# # traz todos os arquivos\n",
    "# for arquivo in caminho_bases.iterdir():  #interdir -> da uma lista q pode iterar sobre ela com todos os caminhos do path\n",
    "#     print(arquivo.name)\n",
    "    \n",
    "# # importando 1 arquivo\n",
    "# abril2018_df = pd.read_csv(r'dataset\\abril2018.csv')\n",
    "# display(abril2018_df) # mostrara todos os arquivos q estao dentro da pasta\n",
    "\n",
    "# # esse aviso diz q a coluna 62 e 87 tem 2 tipos de dados distintos - o q faz um pouco mais lento."
   ]
  },
  {
   "cell_type": "code",
   "execution_count": 3,
   "metadata": {},
   "outputs": [],
   "source": [
    "# # Como sao varios arquivos, cd arquivo sera adicionado embaixo um do outro (mergir) -> append\n",
    "\n",
    "# caminho_bases = pathlib.Path(\"dataset\") \n",
    "\n",
    "# base_airbnb = pd.DataFrame()            #2 criar um df vazio\n",
    "\n",
    "# for arquivo in caminho_bases.iterdir():  \n",
    "#     df = pd.read_csv(caminho_bases / arquivo.name)          # \"ou df = pd.read_csv(r'dataset\\{}'.format(arquivo.name)')\"\n",
    "#     base_airbnb = base_airbnb.append(df)\n",
    "\n",
    "#                 #dataframe = dataframe.append(df2)  #1 criar um df q neste sera adicionado cd arquivo embaixo um do outro\n",
    "    \n",
    "# display(base_airbnb)"
   ]
  },
  {
   "cell_type": "code",
   "execution_count": null,
   "metadata": {},
   "outputs": [
    {
     "name": "stderr",
     "output_type": "stream",
     "text": [
      "C:\\Users\\Keylla\\anaconda3\\lib\\site-packages\\IPython\\core\\interactiveshell.py:3165: DtypeWarning: Columns (62,87) have mixed types.Specify dtype option on import or set low_memory=False.\n",
      "  has_raised = await self.run_ast_nodes(code_ast.body, cell_name,\n",
      "C:\\Users\\Keylla\\anaconda3\\lib\\site-packages\\IPython\\core\\interactiveshell.py:3165: DtypeWarning: Columns (61,62,94) have mixed types.Specify dtype option on import or set low_memory=False.\n",
      "  has_raised = await self.run_ast_nodes(code_ast.body, cell_name,\n",
      "C:\\Users\\Keylla\\anaconda3\\lib\\site-packages\\IPython\\core\\interactiveshell.py:3165: DtypeWarning: Columns (87) have mixed types.Specify dtype option on import or set low_memory=False.\n",
      "  has_raised = await self.run_ast_nodes(code_ast.body, cell_name,\n"
     ]
    }
   ],
   "source": [
    "# Sera adicionado na tabela mes e ano q eram identificadas pelo nome dos arquvios\n",
    "\n",
    "# Criar um dicionario\n",
    "\n",
    "meses = {\"jan\":1, \"fev\":2, \"mar\":3, \"abr\":4, \"mai\":5, \"jun\":6, \"jul\": 7, \"ago\":8, \"set\":9, \"out\":10, \"nov\":11, \"dez\":12}\n",
    "\n",
    "\n",
    "caminho_bases = pathlib.Path(\"dataset\") \n",
    "\n",
    "base_airbnb = pd.DataFrame()            \n",
    "\n",
    "for arquivo in caminho_bases.iterdir():  \n",
    "    nome_mes = arquivo.name[:3]    # pega o nome do 1o arquivo inicionando pelo abr (abril)\n",
    "    mes = meses[nome_mes]\n",
    "    \n",
    "    ano = arquivo.name[-8:]             # usa o final d cada arquivo. ex: abril2018.csv\n",
    "    ano = int(ano.replace(\".csv\", \"\"))  # substitiuindo o \".csv\" por vazio\"\"\n",
    "    \n",
    "    df = pd.read_csv(caminho_bases / arquivo.name)          \n",
    "    df[\"ano\"] = ano\n",
    "    df[\"mes\"] = mes\n",
    "    base_airbnb = base_airbnb.append(df)\n",
    "\n",
    "               \n",
    "display(base_airbnb)"
   ]
  },
  {
   "cell_type": "markdown",
   "metadata": {},
   "source": [
    "### Consolidar Base de Dados"
   ]
  },
  {
   "attachments": {},
   "cell_type": "markdown",
   "metadata": {},
   "source": [
    "- Como ha mtas colunas, isso interferira na velocidade dessa analise. Atraves de uma breve analise  eh possivel perceber que ha mtas colunas desnecessarias que nao agregarao valor para o modelo de previsao. \n",
    "- Sendo assim, a ideia eh excluir essas colunas que nao fazem sentido ficar.\n",
    "- Colunas a serem excluidas:\n",
    "\n",
    "    1. Indice, ID, \n",
    "    2.Colunas repetidas ou extremamente similar. last_scraped (sera excluida pq ja ha 2 colunas no final de mes e ano)\n",
    "    3.Colunas preenchidas com texto livre. Nao rodar Name, summary, \n",
    "    4.  \n",
    "- Nesse caso criarei um arquvio em excel com os mil primeiros registros (p/aumentar a velocidade da manipulacao) e em seguida fazer uma analise qualitativaa"
   ]
  },
  {
   "cell_type": "code",
   "execution_count": null,
   "metadata": {},
   "outputs": [],
   "source": [
    "# Imprimindo as colunas desse banco de dados \n",
    "print(list(base_airbnb.columns))\n"
   ]
  },
  {
   "cell_type": "code",
   "execution_count": null,
   "metadata": {},
   "outputs": [],
   "source": [
    "# Gerando os mil primeiros registros e joga-los no excel q sera criado\n",
    "# base_airbnb.head(1000).to_csv(\"primeiros_registros.csv\", sep=\",\") # sep eh o separador de virgulas pq as vezes os\n",
    "#dados podem ir para o excel em formato de texto\n",
    "\n",
    "base_airbnb.head(1000).to_csv(\"primeiros_registros.csv\")"
   ]
  },
  {
   "cell_type": "code",
   "execution_count": null,
   "metadata": {},
   "outputs": [],
   "source": [
    "# Proximo passo eh abrir o excel e olhar toda a base de dados e comecar a deletar as colunas no proprio excel"
   ]
  },
  {
   "cell_type": "code",
   "execution_count": null,
   "metadata": {},
   "outputs": [],
   "source": []
  },
  {
   "cell_type": "markdown",
   "metadata": {},
   "source": [
    "### Se tivermos muitas colunas, já vamos identificar quais colunas podemos excluir"
   ]
  },
  {
   "cell_type": "code",
   "execution_count": null,
   "metadata": {},
   "outputs": [],
   "source": [
    "print(base_airbnb)"
   ]
  },
  {
   "cell_type": "markdown",
   "metadata": {},
   "source": [
    "### Tratar Valores Faltando"
   ]
  },
  {
   "cell_type": "code",
   "execution_count": null,
   "metadata": {},
   "outputs": [],
   "source": []
  },
  {
   "cell_type": "markdown",
   "metadata": {},
   "source": [
    "### Verificar Tipos de Dados em cada coluna"
   ]
  },
  {
   "cell_type": "code",
   "execution_count": null,
   "metadata": {},
   "outputs": [],
   "source": []
  },
  {
   "cell_type": "markdown",
   "metadata": {},
   "source": [
    "### Análise Exploratória e Tratar Outliers"
   ]
  },
  {
   "cell_type": "code",
   "execution_count": null,
   "metadata": {},
   "outputs": [],
   "source": []
  },
  {
   "cell_type": "markdown",
   "metadata": {},
   "source": [
    "### Encoding"
   ]
  },
  {
   "cell_type": "code",
   "execution_count": null,
   "metadata": {},
   "outputs": [],
   "source": []
  },
  {
   "cell_type": "markdown",
   "metadata": {},
   "source": [
    "### Modelo de Previsão"
   ]
  },
  {
   "cell_type": "code",
   "execution_count": null,
   "metadata": {},
   "outputs": [],
   "source": []
  },
  {
   "cell_type": "markdown",
   "metadata": {},
   "source": [
    "### Análise do Melhor Modelo"
   ]
  },
  {
   "cell_type": "code",
   "execution_count": null,
   "metadata": {},
   "outputs": [],
   "source": []
  },
  {
   "cell_type": "markdown",
   "metadata": {},
   "source": [
    "### Ajustes e Melhorias no Melhor Modelo"
   ]
  },
  {
   "cell_type": "code",
   "execution_count": null,
   "metadata": {},
   "outputs": [],
   "source": []
  }
 ],
 "metadata": {
  "kernelspec": {
   "display_name": "Python 3",
   "language": "python",
   "name": "python3"
  },
  "language_info": {
   "codemirror_mode": {
    "name": "ipython",
    "version": 3
   },
   "file_extension": ".py",
   "mimetype": "text/x-python",
   "name": "python",
   "nbconvert_exporter": "python",
   "pygments_lexer": "ipython3",
   "version": "3.8.8"
  }
 },
 "nbformat": 4,
 "nbformat_minor": 4
}
